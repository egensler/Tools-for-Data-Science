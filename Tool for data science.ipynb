{
 "cells": [
  {
   "cell_type": "markdown",
   "id": "1bf2405a-5116-4331-b46f-f6494e84279b",
   "metadata": {},
   "source": [
    "# My Jupyter Notebook on IBM Watson Studio"
   ]
  },
  {
   "cell_type": "markdown",
   "id": "4a875e36-fdca-4c17-96a0-cc8e3c5d7ee1",
   "metadata": {},
   "source": [
    "<b> Erik Gensler </b> <br> Data Analytics Professional"
   ]
  },
  {
   "cell_type": "markdown",
   "id": "4e57a437-4dbb-455d-8800-4e7faa4a4152",
   "metadata": {},
   "source": [
    "<i> I am interested in data science because I like understanding the world from an evidence-based perspective. I like digging around in data and discovering insights and solving problems like a detective.  </i>"
   ]
  },
  {
   "cell_type": "markdown",
   "id": "e09f509e-3397-4059-99f0-f84d197505c2",
   "metadata": {},
   "source": [
    "### My code will print a short math equation showing 11 + 12"
   ]
  },
  {
   "cell_type": "code",
   "execution_count": 14,
   "id": "7f9a5cdd-4637-44f3-ad86-4fea7bd7b19e",
   "metadata": {},
   "outputs": [
    {
     "name": "stdout",
     "output_type": "stream",
     "text": [
      "11 + 12 = 23\n"
     ]
    }
   ],
   "source": [
    "print (\"11 + 12 = \" + str(11 + 12)) "
   ]
  },
  {
   "cell_type": "markdown",
   "id": "a2abcb5c-675a-44f4-9cf3-89c4f3ff681d",
   "metadata": {},
   "source": [
    "<ol>\n",
    "<li> bread </li>\n",
    "<li> cheese </li>\n",
    "<li> beer </li>\n",
    "</ol>\n",
    "\n",
    "| State | Capital | Population |\n",
    "| - | - | - |\n",
    "| Alabama | Redmond | 23,000 |\n",
    "| Oregon | Witchita | 345,899 |\n",
    "| Florida | Flagstaff | 24,555|\n",
    "\n",
    "<s>Don't pay attention to this</s>\n",
    "\n",
    "- blue\n",
    "- white\n",
    "- green\n",
    "- red"
   ]
  }
 ],
 "metadata": {
  "kernelspec": {
   "display_name": "Python 3 (ipykernel)",
   "language": "python",
   "name": "python3"
  },
  "language_info": {
   "codemirror_mode": {
    "name": "ipython",
    "version": 3
   },
   "file_extension": ".py",
   "mimetype": "text/x-python",
   "name": "python",
   "nbconvert_exporter": "python",
   "pygments_lexer": "ipython3",
   "version": "3.11.0"
  }
 },
 "nbformat": 4,
 "nbformat_minor": 5
}
